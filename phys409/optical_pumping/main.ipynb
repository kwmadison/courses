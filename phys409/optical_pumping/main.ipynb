{
 "cells": [
  {
   "cell_type": "markdown",
   "source": [
    "# Optical Pumping Project\n",
    "\n",
    "###### Week 1 - September 15, 2020\n",
    "## Preliminary Project Plan\n",
    "\n",
    "This project has two components. First, a theoretical component involving computer simulations and calculations to understand the underlying physics. Second, the analysis of provided data to fit the theoretical models and extract useful constants.\n",
    "\n",
    "I have outlined the objectives of each below along with an approximate timeline indicated by the week number in paranthesis.\n",
    "\n",
    "### Theory and Simulations\n",
    "* Calculate the corrected energy levels of the Rubidium isotopes due to fine structure, hyperfine structure, and weak field Zeeman effects. (1)\n",
    "* Simulate the optical pumping process of Rubidium stochastically, and calculate the time taken to reach a saturated polarized (transparent) state. (2-3)\n",
    "* Include the depolarizing effects of the RF signal in the simulation to study the equillibrium properties of the gas at various RF frequencies. (4)\n",
    "* Modify simulations to study Rabi oscillations and the quadratic Zeeman effect. (5)\n",
    "\n",
    "### Data Analysis\n",
    "* From the transmission vs. temperature data, find the effective cross-section $\\sigma$. (1)\n",
    "* Using the resonance frequency vs. magnetic field data, find the nuclear magnetic moment of both Rubidium isotopes. (2)\n",
    "* From the transmission vs. $B$ field data approximate isotope abundances. (2)\n",
    "* Study Rabi oscillations and intermediate-field Zeeman effect. (3-4)\n",
    "* Compare empirical results with simulations in an ongoing manner.\n",
    "\n",
    "Finally, I will spend weeks 5-6 compiling the results and putting together the presentation and reduced paper."
   ],
   "metadata": {
    "collapsed": false,
    "pycharm": {
     "name": "#%% md\n"
    }
   }
  },
  {
   "cell_type": "markdown",
   "source": [
    "###### September 18\n",
    "Summary write up..."
   ],
   "metadata": {
    "collapsed": false
   }
  },
  {
   "cell_type": "markdown",
   "source": [
    "###### Septmeber 21\n",
    "Calculating the energy levels by diagonalizing the Hamiltonian.\n"
   ],
   "metadata": {
    "collapsed": false,
    "pycharm": {
     "name": "#%% md\n"
    }
   }
  }
 ],
 "metadata": {
  "kernelspec": {
   "display_name": "Python 3",
   "language": "python",
   "name": "python3"
  },
  "language_info": {
   "codemirror_mode": {
    "name": "ipython",
    "version": 2
   },
   "file_extension": ".py",
   "mimetype": "text/x-python",
   "name": "python",
   "nbconvert_exporter": "python",
   "pygments_lexer": "ipython2",
   "version": "2.7.6"
  }
 },
 "nbformat": 4,
 "nbformat_minor": 0
}