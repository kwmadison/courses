{
 "cells": [
  {
   "cell_type": "markdown",
   "source": [
    "###### September 19\n",
    "* **Modify notch setup on CFG to cut red arm.** Notch with 2 fibers away from FP reduces intensity to almost 0, with a width of $\\approx 1nm$ in spectrum. Only $\\approx 2.5\\%$ of centrifuge power is lost. Hence, we can stop CFG without worrying about reduced power, which is the case with truncating."
   ],
   "metadata": {
    "collapsed": false,
    "pycharm": {
     "name": "#%% md\n"
    }
   }
  },
  {
   "cell_type": "markdown",
   "source": [
    "###### September 21\n"
   ],
   "metadata": {
    "collapsed": false,
    "pycharm": {
     "name": "#%% md\n"
    }
   }
  }
 ],
 "metadata": {
  "kernelspec": {
   "display_name": "Python 3",
   "language": "python",
   "name": "python3"
  },
  "language_info": {
   "codemirror_mode": {
    "name": "ipython",
    "version": 2
   },
   "file_extension": ".py",
   "mimetype": "text/x-python",
   "name": "python",
   "nbconvert_exporter": "python",
   "pygments_lexer": "ipython2",
   "version": "2.7.6"
  }
 },
 "nbformat": 4,
 "nbformat_minor": 0
}