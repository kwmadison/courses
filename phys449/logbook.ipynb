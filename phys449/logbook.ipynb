{
 "cells": [
  {
   "cell_type": "markdown",
   "source": [
    "###### September 19\n",
    "* **Modify notch setup on CFG to cut red arm.** Notch with 2 fibers away from FP reduces intensity to almost 0, with a width of $\\approx 1nm$ in spectrum. Only $\\approx 2.5\\%$ of centrifuge power is lost. Hence, we can stop CFG without worrying about reduced power, which is the case with truncating."
   ],
   "metadata": {
    "collapsed": false,
    "pycharm": {
     "name": "#%% md\n"
    }
   }
  },
  {
   "cell_type": "markdown",
   "source": [
    "###### October 2\n",
    "* Designed and manufactured a key for the sCFG (~1/8 spectro-spatial density comparred to fCFG)\n",
    "* Constructed a key mount with xy translation for sCFG and mounted the key\n",
    "* Performed Raman with 1-fiber key\n",
    "    * Spectrum intensity reaches minimum of ~60% at the notch regardless of position (even when at FP), likely due to limited resolution of spectrometer\n",
    "    * 1-fiber notch affects super-rotor count as expected, and does not kill all regardless of position\n",
    "* Ideated a 2D fiber array via stacking multiple keys which enables notch width/depth control\n",
    "* Wrote key manufacturing guide draft\n"
   ],
   "metadata": {
    "collapsed": false,
    "pycharm": {
     "name": "#%% md\n"
    }
   }
  }
 ],
 "metadata": {
  "kernelspec": {
   "display_name": "Python 3",
   "language": "python",
   "name": "python3"
  },
  "language_info": {
   "codemirror_mode": {
    "name": "ipython",
    "version": 2
   },
   "file_extension": ".py",
   "mimetype": "text/x-python",
   "name": "python",
   "nbconvert_exporter": "python",
   "pygments_lexer": "ipython2",
   "version": "2.7.6"
  }
 },
 "nbformat": 4,
 "nbformat_minor": 0
}